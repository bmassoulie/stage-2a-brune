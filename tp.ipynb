{
  "nbformat": 4,
  "nbformat_minor": 0,
  "metadata": {
    "anaconda-cloud": {},
    "kernelspec": {
      "display_name": "Python 3",
      "language": "python",
      "name": "python3"
    },
    "language_info": {
      "codemirror_mode": {
        "name": "ipython",
        "version": 3
      },
      "file_extension": ".py",
      "mimetype": "text/x-python",
      "name": "python",
      "nbconvert_exporter": "python",
      "pygments_lexer": "ipython3",
      "version": "3.7.6"
    },
    "latex_envs": {
      "LaTeX_envs_menu_present": true,
      "autoclose": false,
      "autocomplete": false,
      "bibliofile": "biblio.bib",
      "cite_by": "apalike",
      "current_citInitial": 1,
      "eqLabelWithNumbers": true,
      "eqNumInitial": 1,
      "hotkeys": {
        "equation": "Ctrl-E",
        "itemize": "Ctrl-I"
      },
      "labels_anchors": false,
      "latex_user_defs": false,
      "report_style_numbering": false,
      "user_envs_cfg": false
    },
    "colab": {
      "name": "tp.ipynb",
      "provenance": [],
      "collapsed_sections": []
    }
  },
  "cells": [
    {
      "cell_type": "markdown",
      "metadata": {
        "id": "lit44XYAn1fP"
      },
      "source": [
        "# First order methods for regression models\n",
        "\n",
        "## Aim\n",
        "\n",
        "The aim of this practical is to implement:\n",
        "- gradient descent (GD);\n",
        "- accelerated gradient descent (AGD);\n",
        "- coordinate gradient descent (CD);\n",
        "- stochastic gradient descent (SGD);\n",
        "- stochastic average gradient descent (SAG);\n",
        "- stochastic variance reduced gradient descent (SVRG);\n",
        "\n",
        "for the linear regression and logistic regression models, with the ridge penalization.\n",
        "\n",
        "## VERY IMPORTANT\n",
        "\n",
        "- This work **must be done by pairs of students**.\n",
        "- **Each** student must send their work, using the **moodle platform**.\n",
        "- This means that **each student in the pair sends the same file**.\n",
        "\n",
        "# Gentle reminder: no evaluation if you don't respect this EXACTLY.\n",
        "\n",
        "## To generate the name of your file, use the following."
      ]
    },
    {
      "cell_type": "code",
      "metadata": {
        "colab": {
          "base_uri": "https://localhost:8080/"
        },
        "id": "qfU5GDI3n1fU",
        "outputId": "83dad22e-c5bb-45a7-e259-4c1772ed7e0a"
      },
      "source": [
        "# Change here using your first and last names\n",
        "fn1 = \"brune\"\n",
        "ln1 = \"massoulié\"\n",
        "fn2 = \"emma\"\n",
        "ln2 = \"guihard\"\n",
        "\n",
        "filename = \"_\".join(map(lambda s: s.strip().lower(), \n",
        "                        [\"tp1\", ln1, fn1, \"and\", ln2, fn2])) + \".ipynb\"\n",
        "print(filename)"
      ],
      "execution_count": 2,
      "outputs": [
        {
          "output_type": "stream",
          "name": "stdout",
          "text": [
            "tp1_massoulié_brune_and_guihard_emma.ipynb\n"
          ]
        }
      ]
    },
    {
      "cell_type": "markdown",
      "metadata": {
        "id": "F8xAugwhn1fX"
      },
      "source": [
        "# Table of content\n",
        "\n",
        "[1. Introduction](#intro)<br>\n",
        "[2. Models gradients and losses](#models)<br>\n",
        "[3. Solvers](#solvers)<br>\n",
        "[4. Comparison of all algorithms](#comparison)<br>\n",
        "\n",
        "<a id='intro'></a>\n",
        "# 1. Introduction\n",
        "\n",
        "## 1.1. Importing useful packages"
      ]
    },
    {
      "cell_type": "code",
      "metadata": {
        "id": "p3UgLfIDn1fY"
      },
      "source": [
        "import numpy as np\n",
        "import matplotlib.pyplot as plt\n",
        "\n",
        "%matplotlib inline\n",
        "\n",
        "np.set_printoptions(precision=2)  # to have simpler print outputs with numpy"
      ],
      "execution_count": 3,
      "outputs": []
    },
    {
      "cell_type": "markdown",
      "metadata": {
        "id": "1fJPYIOYn1fZ"
      },
      "source": [
        "## 1.2. Simulation of a linear model"
      ]
    },
    {
      "cell_type": "code",
      "metadata": {
        "id": "gThS0BG4n1fa"
      },
      "source": [
        "from numpy.random import multivariate_normal\n",
        "from scipy.linalg.special_matrices import toeplitz\n",
        "from numpy.random import randn\n",
        "\n",
        "\n",
        "def simu_linreg(w0, n_samples=1000, corr=0.5, std=0.5):\n",
        "    \"\"\"Simulation of a linear regression model with Gaussian features\n",
        "    and a Toeplitz covariance, with Gaussian noise.\n",
        "    \n",
        "    Parameters\n",
        "    ----------\n",
        "    w0 : `numpy.array`, shape=(n_features,)\n",
        "        Model weights\n",
        "    \n",
        "    n_samples : `int`, default=1000\n",
        "        Number of samples to simulate\n",
        "    \n",
        "    corr : `float`, default=0.5\n",
        "        Correlation of the features\n",
        "    \n",
        "    std : `float`, default=0.5\n",
        "        Standard deviation of the noise\n",
        "\n",
        "    Returns\n",
        "    -------\n",
        "    X : `numpy.ndarray`, shape=(n_samples, n_features)\n",
        "        Simulated features matrix. It contains samples of a centered \n",
        "        Gaussian  vector with Toeplitz covariance.\n",
        "    \n",
        "    y : `numpy.array`, shape=(n_samples,)\n",
        "        Simulated labels\n",
        "    \"\"\"\n",
        "    n_features = w0.shape[0]\n",
        "    # Construction of a covariance matrix\n",
        "    cov = toeplitz(corr ** np.arange(0, n_features))\n",
        "    # Simulation of features\n",
        "    X = multivariate_normal(np.zeros(n_features), cov, size=n_samples)\n",
        "    # Simulation of the labels\n",
        "    y = X.dot(w0) + std * randn(n_samples)\n",
        "    return X, y"
      ],
      "execution_count": 4,
      "outputs": []
    },
    {
      "cell_type": "code",
      "metadata": {
        "colab": {
          "base_uri": "https://localhost:8080/",
          "height": 323
        },
        "id": "727uGY4nn1fd",
        "outputId": "ee5d74c8-47f9-4a00-a1fe-cf5e3db1ee56"
      },
      "source": [
        "n_samples = 500\n",
        "w0 = np.array([0.5])\n",
        "\n",
        "X, y = simu_linreg(w0, n_samples=n_samples, corr=0.3, std=0.5)\n",
        "plt.scatter(X, y)\n",
        "plt.xlabel(r\"$x_i$\", fontsize=16)\n",
        "plt.ylabel(r\"$y_i$\", fontsize=16)\n",
        "plt.title(\"Linear regression simulation\", fontsize=18)\n",
        "plt.scatter(X, y, label='data')\n",
        "plt.legend()"
      ],
      "execution_count": 5,
      "outputs": [
        {
          "output_type": "execute_result",
          "data": {
            "text/plain": [
              "<matplotlib.legend.Legend at 0x7f50d4ad3c90>"
            ]
          },
          "metadata": {},
          "execution_count": 5
        },
        {
          "output_type": "display_data",
          "data": {
            "image/png": "[encoded data removed]",
            "text/plain": [
              "<Figure size 432x288 with 1 Axes>"
            ]
          },
          "metadata": {
            "needs_background": "light"
          }
        }
      ]
    },
    {
      "cell_type": "markdown",
      "metadata": {
        "id": "t0o6EDy6n1fd"
      },
      "source": [
        "## 1.3. Simulation of a logistic regression model"
      ]
    },
    {
      "cell_type": "code",
      "metadata": {
        "id": "TSqXRY_gn1fe"
      },
      "source": [
        "def sigmoid(t):\n",
        "    \"\"\"Sigmoid function (overflow-proof)\"\"\"\n",
        "    idx = t > 0\n",
        "    out = np.empty(t.size)    \n",
        "    out[idx] = 1 / (1. + np.exp(-t[idx]))\n",
        "    exp_t = np.exp(t[~idx])\n",
        "    out[~idx] = exp_t / (1. + exp_t)\n",
        "    return out\n",
        "\n",
        "def simu_logreg(w0, n_samples=1000, corr=0.5):\n",
        "    \"\"\"Simulation of a logistic regression model with Gaussian features\n",
        "    and a Toeplitz covariance.\n",
        "    \n",
        "    Parameters\n",
        "    ----------\n",
        "    w0 : `numpy.array`, shape=(n_features,)\n",
        "        Model weights\n",
        "    \n",
        "    n_samples : `int`, default=1000\n",
        "        Number of samples to simulate\n",
        "    \n",
        "    corr : `float`, default=0.5\n",
        "        Correlation of the features\n",
        "\n",
        "    Returns\n",
        "    -------\n",
        "    X : `numpy.ndarray`, shape=(n_samples, n_features)\n",
        "        Simulated features matrix. It contains samples of a centered \n",
        "        Gaussian vector with Toeplitz covariance.\n",
        "    \n",
        "    y : `numpy.array`, shape=(n_samples,)\n",
        "        Simulated labels\n",
        "    \"\"\"\n",
        "    n_features = w0.shape[0]\n",
        "    cov = toeplitz(corr ** np.arange(0, n_features))\n",
        "    X = multivariate_normal(np.zeros(n_features), cov, size=n_samples)\n",
        "    p = sigmoid(X.dot(w0))\n",
        "    y = np.random.binomial(1, p, size=n_samples)\n",
        "    # Put the label in {-1, 1}\n",
        "    y[:] = 2 * y - 1\n",
        "    return X, y"
      ],
      "execution_count": 6,
      "outputs": []
    },
    {
      "cell_type": "code",
      "metadata": {
        "colab": {
          "base_uri": "https://localhost:8080/",
          "height": 331
        },
        "id": "L-kk2D1kn1ff",
        "outputId": "88a006aa-6016-4234-8467-0c54eb424ac8"
      },
      "source": [
        "n_samples = 500\n",
        "w0 = np.array([-3, 3.])\n",
        "\n",
        "X, y = simu_logreg(w0, n_samples=n_samples, corr=0.4)\n",
        "\n",
        "plt.scatter(*X[y == 1].T, color='b', s=10, label=r'$y_i=1$')\n",
        "plt.scatter(*X[y == -1].T, color='r', s=10, label=r'$y_i=-1$')\n",
        "plt.legend(loc='upper left')\n",
        "plt.xlabel(r\"$x_i^1$\", fontsize=16)\n",
        "plt.ylabel(r\"$x_i^2$\", fontsize=16)\n",
        "plt.title(\"Logistic regression simulation\", fontsize=18)"
      ],
      "execution_count": 7,
      "outputs": [
        {
          "output_type": "execute_result",
          "data": {
            "text/plain": [
              "Text(0.5, 1.0, 'Logistic regression simulation')"
            ]
          },
          "metadata": {},
          "execution_count": 7
        },
        {
          "output_type": "display_data",
          "data": {
            "image/png": "[encoded data removed]",
            "text/plain": [
              "<Figure size 432x288 with 1 Axes>"
            ]
          },
          "metadata": {
            "needs_background": "light"
          }
        }
      ]
    },
    {
      "cell_type": "markdown",
      "metadata": {
        "id": "BK25YgQ8n1fg"
      },
      "source": [
        "<a id='models'></a>\n",
        "# 2. Models gradients and losses\n",
        "\n",
        "We want to minimize a goodness-of-fit function $h : \\mathbb R^d \\to \\mathbb R$ with ridge regularization, namely\n",
        "$$\n",
        "\\arg\\min_{w \\in \\mathbb R^d} f(w),\n",
        "\\qquad \\text{with} \\quad\n",
        "f(w) = h(w) + \\frac{\\lambda}{2} \\|w\\|_2^2,\n",
        "$$\n",
        "where $d$ is the number of features and where we will assume that $h$ is $L$-smooth.\n",
        "We will consider below the following cases.\n",
        "\n",
        "**Linear regression**\n",
        "$$\n",
        "f(w)\n",
        "= \\frac{1}{2 n} \\| y - X w \\|_2^2 + \\frac{\\lambda}{2} \\|w\\|_2^2\n",
        "= \\frac 1n \\sum_{i=1}^n f_i(w),\n",
        "\\qquad \\text{with} \\quad\n",
        "f_i(w) = \\frac 12 \\left( (y_i - x_i^\\top w)^2 + \\lambda \\|w\\|_2^2 \\right),\n",
        "$$\n",
        "where $n$ is the sample size, $y = [y_1 \\cdots y_n]$ is the vector of labels and $X$ is the matrix of features with lines containing the features vectors $x_i \\in \\mathbb R^d$.\n",
        "\n",
        "**Logistic regression**\n",
        "$$\n",
        "f(w)\n",
        "= \\frac{1}{n} \\sum_{i=1}^n \\log(1 + \\exp(-y_i x_i^\\top w)) + \\frac{\\lambda}{2} \\|w\\|_2^2\n",
        "= \\frac 1n \\sum_{i=1}^n f_i(w),\n",
        "\\qquad \\text{with} \\quad\n",
        "f_i(w) = \\log(1 + \\exp(-y_i x_i^\\top w)) + \\frac{\\lambda}{2} \\|w\\|_2^2,\n",
        "$$\n",
        "where $n$ is the sample size, and where labels $y_i \\in \\{ -1, 1 \\}$ for all $i$.\n",
        "\n",
        "We need to be able to compute $f(w)$ and its gradient $\\nabla f(w)$ (along with its Lipschitz constant $L$), in order to solve this problem, as well as $\\nabla f_i(w)$ (along with the biggest Lipschitz constant $L_{max}$ of $\\nabla f_i(w),\\dots, \\nabla f_n(w)$) for stochastic gradient descent methods and $\\frac{\\partial f(w)}{\\partial w_j}$ (along with its Lipschitz constant $L_j$) for coordinate descent.\n",
        "\n",
        "Below is the full implementation for linear regression, where:\n",
        "- `X` is the data matrix $X$;\n",
        "- `y` is the vector of labels $y$;\n",
        "- `strength` is the penalty coefficient $\\lambda$;\n",
        "- `loss(w)` computes $f(w)$;\n",
        "- `grad(w)` computes $\\nabla f(w)$;\n",
        "- `grad_i(i, w)` computes $\\nabla f_i(w)$;\n",
        "- `grad_coordinate(j, w)` computes $\\frac{\\partial f(w)}{\\partial w_j}$;\n",
        "- `lip()` returns $L$;\n",
        "- `lip_coordinates()` returns the vector $[L_1, \\dots, L_d]$;\n",
        "- `lip_max()` returns $L_{max}$.\n",
        "\n",
        "## 2.1 Linear regression"
      ]
    },
    {
      "cell_type": "code",
      "metadata": {
        "id": "cprwV2hnn1fh"
      },
      "source": [
        "from numpy.linalg import norm\n",
        "\n",
        "\n",
        "class ModelLinReg:\n",
        "    \"\"\"A class giving first order information for linear regression\n",
        "    with least-squares loss\n",
        "    \n",
        "    Parameters\n",
        "    ----------\n",
        "    X : `numpy.array`, shape=(n_samples, n_features)\n",
        "        The features matrix\n",
        "    \n",
        "    y : `numpy.array`, shape=(n_samples,)\n",
        "        The vector of labels\n",
        "    \n",
        "    strength : `float`\n",
        "        The strength of ridge penalization\n",
        "    \"\"\"    \n",
        "    def __init__(self, X, y, strength):\n",
        "        self.X = X\n",
        "        self.y = y\n",
        "        self.strength = strength\n",
        "        self.n_samples, self.n_features = X.shape\n",
        "\n",
        "    def loss(self, w):\n",
        "        \"\"\"Computes f(w)\"\"\"\n",
        "        y, X, n_samples, strength = self.y, self.X, self.n_samples, self.strength\n",
        "        return 0.5 * norm(y - X.dot(w)) ** 2 / n_samples + strength * norm(w) ** 2 / 2\n",
        "    \n",
        "    def grad(self, w):\n",
        "        \"\"\"Computes the gradient of f at w\"\"\"\n",
        "        y, X, n_samples, strength = self.y, self.X, self.n_samples, self.strength\n",
        "        return X.T.dot(X.dot(w) - y) / n_samples + strength * w\n",
        "\n",
        "    def grad_i(self, i, w):\n",
        "        \"\"\"Computes the gradient of f_i at w\"\"\"\n",
        "        x_i = self.X[i]\n",
        "        y = self.y\n",
        "        return (x_i.dot(w) - y[i]) * x_i + self.strength * w\n",
        "\n",
        "    def grad_coordinate(self, j, w):\n",
        "        \"\"\"Computes the partial derivative of f with respect to \n",
        "        the j-th coordinate\"\"\"\n",
        "        y, X, n_samples, strength = self.y, self.X, self.n_samples, self.strength\n",
        "        return X[:, j].T.dot(X.dot(w) - y) / n_samples + strength * w[j]\n",
        "\n",
        "    def lip(self):\n",
        "        \"\"\"Computes the Lipschitz constant of the gradient of f\"\"\"\n",
        "        X, n_samples = self.X, self.n_samples\n",
        "        return norm(X.T.dot(X), 2) / n_samples + self.strength\n",
        "\n",
        "    def lip_coordinates(self):\n",
        "        \"\"\"Computes the Lipschitz constant of the partial derivative of f with respect to \n",
        "        the j-th coordinate\"\"\"\n",
        "        X, n_samples = self.X, self.n_samples\n",
        "        return (X ** 2).sum(axis=0) / n_samples + self.strength\n",
        "        \n",
        "    def lip_max(self):\n",
        "        \"\"\"Computes the maximum of the lipschitz constants of the gradient of f_i\"\"\"\n",
        "        X, n_samples = self.X, self.n_samples\n",
        "        return ((X ** 2).sum(axis=1) + self.strength).max()"
      ],
      "execution_count": 8,
      "outputs": []
    },
    {
      "cell_type": "markdown",
      "metadata": {
        "id": "ue6vMLvln1fi"
      },
      "source": [
        "## 2.2 Checks for the linear regression model"
      ]
    },
    {
      "cell_type": "code",
      "metadata": {
        "colab": {
          "base_uri": "https://localhost:8080/",
          "height": 245
        },
        "id": "Fw0m29Jmn1fi",
        "outputId": "6e598447-4fcc-4ecc-cadc-5c3da7aff610"
      },
      "source": [
        "## Simulation setting\n",
        "n_features = 50\n",
        "n_informative = 20\n",
        "idx = np.arange(n_features)\n",
        "w0 = (-1) ** idx * np.exp(-idx / 10.)\n",
        "w0[n_informative:] = 0.\n",
        "\n",
        "plt.figure(figsize=(5, 3))\n",
        "plt.stem(w0, use_line_collection=True)\n",
        "plt.title(\"Model weights\")"
      ],
      "execution_count": 9,
      "outputs": [
        {
          "output_type": "execute_result",
          "data": {
            "text/plain": [
              "Text(0.5, 1.0, 'Model weights')"
            ]
          },
          "metadata": {},
          "execution_count": 9
        },
        {
          "output_type": "display_data",
          "data": {
            "image/png": "[encoded data removed]",
            "text/plain": [
              "<Figure size 360x216 with 1 Axes>"
            ]
          },
          "metadata": {
            "needs_background": "light"
          }
        }
      ]
    },
    {
      "cell_type": "code",
      "metadata": {
        "colab": {
          "base_uri": "https://localhost:8080/"
        },
        "id": "QMAUms2_n1fj",
        "outputId": "72646c01-87b0-4170-af73-c478ece829d4"
      },
      "source": [
        "from scipy.optimize import check_grad\n",
        "\n",
        "X, y = simu_linreg(w0, corr=0.6)\n",
        "model = ModelLinReg(X, y, strength=1e-3)\n",
        "\n",
        "w = np.random.randn(n_features)\n",
        "\n",
        "print(check_grad(model.loss, model.grad, w)) # This must be a number (of order 1e-6)"
      ],
      "execution_count": 10,
      "outputs": [
        {
          "output_type": "stream",
          "name": "stdout",
          "text": [
            "2.5574540682033255e-06\n"
          ]
        }
      ]
    },
    {
      "cell_type": "code",
      "metadata": {
        "colab": {
          "base_uri": "https://localhost:8080/"
        },
        "id": "sRgEdbsXn1fk",
        "outputId": "052aa942-4d18-4080-c888-b342eb08a1f1"
      },
      "source": [
        "print(\"lip =\", model.lip())\n",
        "print(\"lip_max =\", model.lip_max())\n",
        "print(\"lip_coordinates =\", model.lip_coordinates())"
      ],
      "execution_count": 11,
      "outputs": [
        {
          "output_type": "stream",
          "name": "stdout",
          "text": [
            "lip = 4.143636132480145\n",
            "lip_max = 118.92388600466867\n",
            "lip_coordinates = [0.87 0.92 1.   1.01 0.95 0.96 0.92 0.96 0.99 1.   1.03 1.07 1.04 1.03\n",
            " 0.98 1.06 0.97 1.04 0.99 0.95 0.94 0.9  0.97 0.99 1.01 0.97 1.01 1.03\n",
            " 0.95 1.   1.01 1.05 1.07 1.09 1.07 0.98 1.02 0.99 1.01 1.06 0.98 1.02\n",
            " 1.09 0.97 0.94 1.01 1.   1.05 0.99 1.  ]\n"
          ]
        }
      ]
    },
    {
      "cell_type": "markdown",
      "metadata": {
        "id": "zCabP4O1n1fl"
      },
      "source": [
        "## 2.3 Logistic regression\n",
        "\n",
        "**NB**: you can skip these questions and go to the solvers implementation, and come back here later.\n",
        "\n",
        "### QUESTIONS\n",
        "\n",
        "1. Compute (on paper) the gradient $\\nabla f$, the gradient $\\nabla f_i$ and the partial derivatives $\\frac{\\partial f(w)}{\\partial w_j}$ of $f$ for logistic regression (fill the class given below).\n",
        "\n",
        "2. Fill in the functions below for the computation of $f$, $\\nabla f$, $\\nabla f_i$ and $\\frac{\\partial f(w)}{\\partial w_j}$ for logistic regression in the ModelLogReg class (fill between `TODO` and `END TODO`)."
      ]
    },
    {
      "cell_type": "markdown",
      "metadata": {
        "id": "u9j9rgyQn1fl"
      },
      "source": [
        "1. $\\nabla f(w) = \\frac{1}{n} \\sum_{i=0}^{n} \\frac{-y_i exp(-y_i x_i^t w)}{1+exp(-y_i x_i^t w)}x_i + \\lambda w $\n",
        "\n",
        "$\\nabla f_i(w) = \\frac{-y_i exp(-y_i x_i^t w)}{1+exp(-y_i x_i^t w)}x_i + \\lambda w $\n",
        "\n",
        "$\\frac{\\partial f(w)}{\\partial w_j} = \\frac{1}{n} \\sum_{i=0}^{n} \\frac{-y_i exp(-y_i x_i^t w)}{1+exp(-y_i x_i^t w)}x_i[j] + \\lambda w[j]$"
      ]
    },
    {
      "cell_type": "code",
      "metadata": {
        "id": "T-A7mD90n1fm"
      },
      "source": [
        "class ModelLogReg:\n",
        "    \"\"\"A class giving first order information for logistic regression\n",
        "    \n",
        "    Parameters\n",
        "    ----------\n",
        "    X : `numpy.array`, shape=(n_samples, n_features)\n",
        "        The features matrix\n",
        "    \n",
        "    y : `numpy.array`, shape=(n_samples,)\n",
        "        The vector of labels\n",
        "    \n",
        "    strength : `float`\n",
        "        The strength of ridge penalization\n",
        "    \"\"\"    \n",
        "    def __init__(self, X, y, strength):\n",
        "        self.X = X\n",
        "        self.y = y\n",
        "        self.strength = strength\n",
        "        self.n_samples, self.n_features = X.shape"
      ],
      "execution_count": 12,
      "outputs": []
    },
    {
      "cell_type": "code",
      "metadata": {
        "id": "_AlJnEiAn1fm"
      },
      "source": [
        "# Answer\n",
        "def LRloss(self, w):\n",
        "    \"\"\"Computes f(w)\"\"\"\n",
        "    y, X, n_samples, strength = self.y, self.X, self.n_samples, self.strength\n",
        "    ### TODO\n",
        "    S = 0\n",
        "    for i in range(n_samples):\n",
        "        S+=np.log(1+np.exp(-y[i]*np.dot(w,X[i])))\n",
        "    return 1/n_samples*S+strength/2*norm(w)**2\n",
        "    ### END TODO\n",
        "    \n",
        "ModelLogReg.loss = LRloss"
      ],
      "execution_count": 13,
      "outputs": []
    },
    {
      "cell_type": "code",
      "metadata": {
        "colab": {
          "base_uri": "https://localhost:8080/"
        },
        "id": "nrDuhg9In1fm",
        "outputId": "c996725d-0321-4d27-d5ab-5264aa30e9d8"
      },
      "source": [
        "# Check the method with fake data\n",
        "X = np.random.randn(5, 2)\n",
        "y = np.random.randint(0, 2, X.shape[0])*2 - 1\n",
        "w = np.random.randn(X.shape[1])\n",
        "\n",
        "model_logreg = ModelLogReg(X, y, strength=1e-3)\n",
        "\n",
        "model_logreg.loss(w)"
      ],
      "execution_count": 14,
      "outputs": [
        {
          "output_type": "execute_result",
          "data": {
            "text/plain": [
              "0.6298155359674344"
            ]
          },
          "metadata": {},
          "execution_count": 14
        }
      ]
    },
    {
      "cell_type": "code",
      "metadata": {
        "id": "o1PFOeGRn1fn"
      },
      "source": [
        "# Answer\n",
        "def LRgrad(self, w):\n",
        "    \"\"\"Computes the gradient of f at w\"\"\"\n",
        "    y, X, n_samples, strength = self.y, self.X, self.n_samples, self.strength\n",
        "    ### TODO\n",
        "    S = 0\n",
        "    for i in range(n_samples):\n",
        "        S+=(-y[i]*np.exp(-y[i]*np.dot(w,X[i])))/(1+np.exp(-y[i]*np.dot(w,X[i])))*X[i]\n",
        "    return S/n_samples+strength*w\n",
        "    ### END TODO\n",
        "    \n",
        "ModelLogReg.grad = LRgrad"
      ],
      "execution_count": 15,
      "outputs": []
    },
    {
      "cell_type": "code",
      "metadata": {
        "colab": {
          "base_uri": "https://localhost:8080/"
        },
        "id": "zCly1WRBn1fn",
        "outputId": "ed3115bb-836b-4a3c-bc81-29b49c5515bd"
      },
      "source": [
        "# Check the method\n",
        "model_logreg.grad(w)"
      ],
      "execution_count": 16,
      "outputs": [
        {
          "output_type": "execute_result",
          "data": {
            "text/plain": [
              "array([-0.3 , -0.27])"
            ]
          },
          "metadata": {},
          "execution_count": 16
        }
      ]
    },
    {
      "cell_type": "code",
      "metadata": {
        "collapsed": true,
        "id": "Q4_7CyBHn1fo"
      },
      "source": [
        "# Answer\n",
        "def LRgrad_i(self, i, w):\n",
        "    \"\"\"Computes the gradient of f_i at w\"\"\"\n",
        "    x_i = self.X[i]\n",
        "    y = self.y\n",
        "    ### TODO\n",
        "    return -y[i]*np.exp(-y[i]*np.dot(w,x_i))/(1+np.exp(-y[i]*np.dot(w,x_i)))*x_i+self.strength*w\n",
        "    ### END TODO\n",
        "    \n",
        "ModelLogReg.grad_i = LRgrad_i"
      ],
      "execution_count": 17,
      "outputs": []
    },
    {
      "cell_type": "code",
      "metadata": {
        "colab": {
          "base_uri": "https://localhost:8080/"
        },
        "id": "w2E-o_4on1fp",
        "outputId": "ecc45cb2-1341-446e-eccb-dfede76aa29e"
      },
      "source": [
        "# Check the method\n",
        "model_logreg.grad_i(0, w)"
      ],
      "execution_count": 18,
      "outputs": [
        {
          "output_type": "execute_result",
          "data": {
            "text/plain": [
              "array([0.52, 0.55])"
            ]
          },
          "metadata": {},
          "execution_count": 18
        }
      ]
    },
    {
      "cell_type": "code",
      "metadata": {
        "collapsed": true,
        "id": "uu0QWj6Jn1fp"
      },
      "source": [
        "# Answer\n",
        "def LRgrad_coordinate(self, j, w):\n",
        "    \"\"\"Computes the partial derivative of f with respect to \n",
        "    the j-th coordinate\"\"\"\n",
        "    y, X, n_samples, strength = self.y, self.X, self.n_samples, self.strength\n",
        "    ### TODO\n",
        "    S = 0\n",
        "    for i in range(n_samples):\n",
        "        S+=(-y[i]*np.exp(-y[i]*np.dot(w,X[i])))/(1+np.exp(-y[i]*np.dot(w,X[i])))*X[i][j]\n",
        "    return S/n_samples+strength*w[j]\n",
        "    ### END TODO\n",
        "    \n",
        "ModelLogReg.grad_coordinate = LRgrad_coordinate"
      ],
      "execution_count": 19,
      "outputs": []
    },
    {
      "cell_type": "code",
      "metadata": {
        "colab": {
          "base_uri": "https://localhost:8080/"
        },
        "id": "pxyzg8hYn1fq",
        "outputId": "676bb8ea-8fd0-4c3b-871b-42f0d6942212"
      },
      "source": [
        "# Check the method\n",
        "model_logreg.grad_coordinate(0, w)"
      ],
      "execution_count": 20,
      "outputs": [
        {
          "output_type": "execute_result",
          "data": {
            "text/plain": [
              "-0.2960948808204633"
            ]
          },
          "metadata": {},
          "execution_count": 20
        }
      ]
    },
    {
      "cell_type": "code",
      "metadata": {
        "collapsed": true,
        "id": "mTK3OCNDn1fq"
      },
      "source": [
        "# Answer\n",
        "def LRlip(self):\n",
        "    \"\"\"Computes the Lipschitz constant of the gradient of f\"\"\"\n",
        "    X, n_samples = self.X, self.n_samples\n",
        "    ### TODO\n",
        "    return norm(X.T.dot(X), 2)/(4*n_samples) + self.strength\n",
        "    ### END TODO\n",
        "    \n",
        "ModelLogReg.lip = LRlip"
      ],
      "execution_count": 21,
      "outputs": []
    },
    {
      "cell_type": "code",
      "metadata": {
        "colab": {
          "base_uri": "https://localhost:8080/"
        },
        "id": "-RtRgQokn1fr",
        "outputId": "c3ab9a72-639d-4274-f235-6559a1984f72"
      },
      "source": [
        "# Check the method\n",
        "model_logreg.lip()"
      ],
      "execution_count": 22,
      "outputs": [
        {
          "output_type": "execute_result",
          "data": {
            "text/plain": [
              "0.6893234224970713"
            ]
          },
          "metadata": {},
          "execution_count": 22
        }
      ]
    },
    {
      "cell_type": "code",
      "metadata": {
        "collapsed": true,
        "id": "zjTBCjion1fr"
      },
      "source": [
        "# Answer\n",
        "def LRlip_coordinates(self):\n",
        "    \"\"\"Computes the Lipschitz constant of the partial derivative of f with respect to \n",
        "    the j-th coordinate\"\"\"\n",
        "    X, n_samples = self.X, self.n_samples\n",
        "    ### TODO\n",
        "    return [1/(4*n_samples)*np.sum(X[:,j]**2)+self.strength for j in range(len(X[0]))]\n",
        "    ### END TODO\n",
        "    \n",
        "ModelLogReg.lip_coordinates = LRlip_coordinates"
      ],
      "execution_count": 85,
      "outputs": []
    },
    {
      "cell_type": "code",
      "metadata": {
        "colab": {
          "base_uri": "https://localhost:8080/"
        },
        "id": "SuKR48pYn1fr",
        "outputId": "aeacb9f9-252e-4e56-bdc8-c644bfc86d5b"
      },
      "source": [
        "# Check the method\n",
        "model_logreg.lip_coordinates()"
      ],
      "execution_count": 86,
      "outputs": [
        {
          "output_type": "execute_result",
          "data": {
            "text/plain": [
              "[0.39885455119178415, 0.3698630395508116]"
            ]
          },
          "metadata": {},
          "execution_count": 86
        }
      ]
    },
    {
      "cell_type": "code",
      "metadata": {
        "collapsed": true,
        "id": "tRbIqHPen1fs"
      },
      "source": [
        "# Answer\n",
        "def LRlip_max(self):\n",
        "    \"\"\"Computes the maximum of the lipschitz constants of the gradient of f_i\"\"\"\n",
        "    X, n_samples = self.X, self.n_samples\n",
        "    ### TODO\n",
        "    return max([1/4*norm(np.dot(X[i].reshape(len(X[0]),1),X[i].reshape(len(X[0]),1).T),2)+self.strength for i in range(n_samples)])\n",
        "    ### END TODO\n",
        "    \n",
        "ModelLogReg.lip_max = LRlip_max"
      ],
      "execution_count": 84,
      "outputs": []
    },
    {
      "cell_type": "code",
      "metadata": {
        "colab": {
          "base_uri": "https://localhost:8080/"
        },
        "id": "yZbZ1FBtn1ft",
        "outputId": "11522ab1-4c56-45a2-c7d4-b87d84ed695d"
      },
      "source": [
        "# Check the method\n",
        "model_logreg.lip_max()"
      ],
      "execution_count": 87,
      "outputs": [
        {
          "output_type": "execute_result",
          "data": {
            "text/plain": [
              "1.9811775853718068"
            ]
          },
          "metadata": {},
          "execution_count": 87
        }
      ]
    },
    {
      "cell_type": "markdown",
      "metadata": {
        "id": "pdr9Bdivn1fv"
      },
      "source": [
        "## 2.4 Checks for the logistic regression model\n",
        "\n",
        "### QUESTIONS\n",
        "\n",
        "1. Check numerically the gradient using the function ``checkgrad`` from ``scipy.optimize``, as done for linear regression above.\n",
        "\n",
        "**Remark**: use the function `simu_logreg` to simulate data according to the logistic regression model."
      ]
    },
    {
      "cell_type": "code",
      "metadata": {
        "collapsed": true,
        "colab": {
          "base_uri": "https://localhost:8080/"
        },
        "id": "wXrHdaD7n1fx",
        "outputId": "34aa08ea-c0f4-45a9-ebfe-d2c8c5d86e68"
      },
      "source": [
        "X, y = simu_logreg(w0, corr=0.6)\n",
        "model = ModelLogReg(X, y, strength=1e-3)\n",
        "\n",
        "w = np.random.randn(n_features)\n",
        "\n",
        "print(check_grad(model.loss, model.grad, w))"
      ],
      "execution_count": 27,
      "outputs": [
        {
          "output_type": "stream",
          "name": "stdout",
          "text": [
            "1.2032225039294316e-06\n"
          ]
        }
      ]
    },
    {
      "cell_type": "markdown",
      "metadata": {
        "id": "nyXkDP3Jn1fx"
      },
      "source": [
        "<a id='solvers'></a>\n",
        "## 3. Solvers"
      ]
    },
    {
      "cell_type": "markdown",
      "metadata": {
        "id": "SH3hnJqpn1fz"
      },
      "source": [
        "We now have classes `ModelLinReg` and `ModelLogReg` that allow to compute $f(w)$, $\\nabla f(w)$, \n",
        "$\\nabla f_i(w)$ and $\\frac{\\partial f(w)}{\\partial w_j}$ for the objective $f$\n",
        "given by linear and logistic regression.\n",
        "\n",
        "We want now to implement and compare several solvers to minimize $f$."
      ]
    },
    {
      "cell_type": "markdown",
      "metadata": {
        "id": "WkIAvuZqn1fz"
      },
      "source": [
        "<a id='tools'></a>\n",
        "## 3.1. Tools for the solvers"
      ]
    },
    {
      "cell_type": "code",
      "metadata": {
        "id": "qDl7Oybun1f0"
      },
      "source": [
        "# Starting point of all solvers\n",
        "w0 = np.zeros(model.n_features)\n",
        "\n",
        "# Number of iterations\n",
        "n_iter = 50\n",
        "\n",
        "# Random samples indices for the stochastic solvers (sgd, sag, svrg)\n",
        "idx_samples = np.random.randint(0, model.n_samples, model.n_samples * n_iter)"
      ],
      "execution_count": 28,
      "outputs": []
    },
    {
      "cell_type": "code",
      "metadata": {
        "id": "6_eGs4LRn1f0"
      },
      "source": [
        "# Method used to print the objective value at each iteration\n",
        "# It is not necessary to read/understand it\n",
        "def inspector(model, n_iter, verbose=True):\n",
        "    \"\"\"A closure called to update metrics after each iteration.\n",
        "    Don't even look at it, we'll just use it in the solvers.\"\"\"\n",
        "    objectives = []\n",
        "    it = [0] # This is a hack to be able to modify 'it' inside the closure.\n",
        "    def inspector_cl(w):\n",
        "        obj = model.loss(w)\n",
        "        objectives.append(obj)\n",
        "        if verbose == True:\n",
        "            if it[0] == 0:\n",
        "                print(' | '.join([name.center(8) for name in [\"it\", \"obj\"]]))\n",
        "            if it[0] % (n_iter / 5) == 0:\n",
        "                print(' | '.join([(\"%d\" % it[0]).rjust(8), (\"%.2e\" % obj).rjust(8)]))\n",
        "            it[0] += 1\n",
        "    inspector_cl.objectives = objectives\n",
        "    return inspector_cl"
      ],
      "execution_count": 29,
      "outputs": []
    },
    {
      "cell_type": "markdown",
      "metadata": {
        "id": "rEYB-EJVn1f0"
      },
      "source": [
        "<a id='gd'></a>\n",
        "## 3.2 Gradient descent\n",
        "\n",
        "### QUESTIONS\n",
        "\n",
        "1. Finish the function `gd` below that implements the gradient descent algorithm.\n",
        "1. Test it using the next cell."
      ]
    },
    {
      "cell_type": "code",
      "metadata": {
        "id": "GM7M2jWJn1f1"
      },
      "source": [
        "# Answer\n",
        "def gd(model, w0, n_iter, callback, verbose=True):\n",
        "    \"\"\"Gradient descent\n",
        "    \"\"\"\n",
        "    step = 1 / model.lip()\n",
        "    w = w0.copy()\n",
        "    w_new = w0.copy()\n",
        "    if verbose:\n",
        "        print(\"Lauching GD solver...\")\n",
        "    callback(w)\n",
        "    for k in range(n_iter + 1):\n",
        "        ### TODO\n",
        "        w_new = w-step*model.grad(w)\n",
        "        w = w_new\n",
        "        ### END TODO\n",
        "        callback(w)\n",
        "    return w"
      ],
      "execution_count": 30,
      "outputs": []
    },
    {
      "cell_type": "code",
      "metadata": {
        "id": "V4z1SjLSn1f2",
        "colab": {
          "base_uri": "https://localhost:8080/"
        },
        "outputId": "408669e7-5fad-4725-d9e7-a30a78028647"
      },
      "source": [
        "callback_gd = inspector(model, n_iter=n_iter)\n",
        "w_gd = gd(model, w0, n_iter=n_iter, callback=callback_gd)"
      ],
      "execution_count": 31,
      "outputs": [
        {
          "output_type": "stream",
          "name": "stdout",
          "text": [
            "Lauching GD solver...\n",
            "   it    |   obj   \n",
            "       0 | 6.93e-01\n",
            "      10 | 5.93e-01\n",
            "      20 | 5.70e-01\n",
            "      30 | 5.60e-01\n",
            "      40 | 5.55e-01\n",
            "      50 | 5.53e-01\n"
          ]
        }
      ]
    },
    {
      "cell_type": "markdown",
      "metadata": {
        "id": "zRfKULScn1f2"
      },
      "source": [
        "<a id='agd'></a>\n",
        "## 3.3 Accelerated gradient descent\n",
        "\n",
        "### QUESTIONS\n",
        "\n",
        "1. Finish the function `agd` below that implements the accelerated gradient descent algorithm.\n",
        "1. Test it using the next cell."
      ]
    },
    {
      "cell_type": "code",
      "metadata": {
        "id": "pYZdnUdsn1f3"
      },
      "source": [
        "# Answer\n",
        "def agd(model, w0, n_iter, callback, verbose=True):\n",
        "    \"\"\"Accelerated gradient descent\n",
        "    \"\"\"\n",
        "    step = 1 / model.lip()\n",
        "    w = w0.copy()\n",
        "    # Extra variables are required for acceleration\n",
        "    z = w0.copy()\n",
        "    z_new = w0.copy()\n",
        "    t = 1.\n",
        "    t_new = 1.    \n",
        "    if verbose:\n",
        "        print(\"Lauching AGD solver...\")\n",
        "    callback(w)\n",
        "    for k in range(n_iter + 1):\n",
        "        ### TODO\n",
        "        z_new = w - step*model.grad(w)\n",
        "        t_new = (1+np.sqrt(1+4*t**2))/2\n",
        "        beta = (t-1)/t_new\n",
        "        w = z_new + beta * (z_new-z)\n",
        "        \n",
        "        z = z_new.copy()\n",
        "        t = t_new\n",
        "        ### END TODO        \n",
        "        callback(w)\n",
        "    return w"
      ],
      "execution_count": 32,
      "outputs": []
    },
    {
      "cell_type": "code",
      "metadata": {
        "id": "VbRNse68n1f3",
        "colab": {
          "base_uri": "https://localhost:8080/"
        },
        "outputId": "e55e9cf3-8f6b-43ba-e629-37b929e07b2c"
      },
      "source": [
        "callback_agd = inspector(model, n_iter=n_iter)\n",
        "w_agd = agd(model, w0, n_iter=n_iter, callback=callback_agd)"
      ],
      "execution_count": 33,
      "outputs": [
        {
          "output_type": "stream",
          "name": "stdout",
          "text": [
            "Lauching AGD solver...\n",
            "   it    |   obj   \n",
            "       0 | 6.93e-01\n",
            "      10 | 5.63e-01\n",
            "      20 | 5.51e-01\n",
            "      30 | 5.51e-01\n",
            "      40 | 5.51e-01\n",
            "      50 | 5.51e-01\n"
          ]
        }
      ]
    },
    {
      "cell_type": "markdown",
      "metadata": {
        "id": "RDO_nVlhn1f4"
      },
      "source": [
        "<a id='cgd'></a>\n",
        "\n",
        "## 3.4 Coordinate gradient descent\n",
        "\n",
        "### QUESTIONS\n",
        "\n",
        "1. Finish the function `cgd` below that implements the coordinate gradient descent algorithm.\n",
        "1. Test it using the next cell."
      ]
    },
    {
      "cell_type": "code",
      "metadata": {
        "id": "q1HvZUdmn1f4"
      },
      "source": [
        "# Answer\n",
        "def cgd(model, w0, n_iter, callback, verbose=True):\n",
        "    \"\"\"Coordinate gradient descent\n",
        "    \"\"\"\n",
        "    w = w0.copy()\n",
        "    n_features = model.n_features\n",
        "    steps = 1 / np.array(model.lip_coordinates())\n",
        "    if verbose:\n",
        "        print(\"Lauching CGD solver...\")\n",
        "    callback(w)\n",
        "    for k in range(n_iter + 1):\n",
        "        ### TODO\n",
        "        i = np.random.randint(len(w))\n",
        "        w[i] = w[i]-steps[i]*model.grad_coordinate(i,w)\n",
        "        ### END TODO\n",
        "        callback(w)\n",
        "    return w"
      ],
      "execution_count": 109,
      "outputs": []
    },
    {
      "cell_type": "code",
      "metadata": {
        "id": "2udgjibdn1f4",
        "colab": {
          "base_uri": "https://localhost:8080/"
        },
        "outputId": "a0feb995-ee4e-4c40-f7d2-9369c3b0f4a9"
      },
      "source": [
        "callback_cgd = inspector(model, n_iter=n_iter)\n",
        "w_cgd = cgd(model, w0, n_iter=n_iter, callback=callback_cgd)"
      ],
      "execution_count": 110,
      "outputs": [
        {
          "output_type": "stream",
          "name": "stdout",
          "text": [
            "Lauching CGD solver...\n",
            "   it    |   obj   \n",
            "       0 | 6.93e-01\n",
            "      10 | 6.85e-01\n",
            "      20 | 6.63e-01\n",
            "      30 | 6.61e-01\n",
            "      40 | 6.45e-01\n",
            "      50 | 6.29e-01\n"
          ]
        }
      ]
    },
    {
      "cell_type": "markdown",
      "metadata": {
        "id": "RBY1DNTxn1f5"
      },
      "source": [
        "<a id='sgd'></a>\n",
        "## 3.5. Stochastic gradient descent\n",
        "\n",
        "### QUESTIONS\n",
        "\n",
        "1. Finish the function `sgd` below that implements the st stochastic gradient descent algorithm.\n",
        "1.Test it using the next cell."
      ]
    },
    {
      "cell_type": "code",
      "metadata": {
        "collapsed": true,
        "id": "lRlW6t9kn1f5"
      },
      "source": [
        "# Answer\n",
        "def sgd(model, w0, idx_samples, n_iter, step, callback, verbose=True):\n",
        "    \"\"\"Stochastic gradient descent\n",
        "    \"\"\"\n",
        "    w = w0.copy()\n",
        "    callback(w)\n",
        "    n_samples = model.n_samples\n",
        "    for idx in range(n_iter):\n",
        "        i = idx_samples[idx]\n",
        "        ### TODO\n",
        "        w = w -  step/np.sqrt(idx+1) *model.grad_i(i,w)\n",
        "        ### END TODO\n",
        "        if idx % n_samples == 0:\n",
        "            callback(w)\n",
        "    return w"
      ],
      "execution_count": 38,
      "outputs": []
    },
    {
      "cell_type": "code",
      "metadata": {
        "id": "hovCvhlDn1f5",
        "colab": {
          "base_uri": "https://localhost:8080/"
        },
        "outputId": "8936b1eb-c7a0-47af-ffa4-5092b8b64201"
      },
      "source": [
        "step = 1e-1\n",
        "callback_sgd = inspector(model, n_iter=n_iter)\n",
        "w_sgd = sgd(model, w0, idx_samples, n_iter=model.n_samples * n_iter, \n",
        "            step=step, callback=callback_sgd)"
      ],
      "execution_count": 39,
      "outputs": [
        {
          "output_type": "stream",
          "name": "stdout",
          "text": [
            "   it    |   obj   \n",
            "       0 | 6.93e-01\n",
            "      10 | 5.75e-01\n",
            "      20 | 5.64e-01\n",
            "      30 | 5.59e-01\n",
            "      40 | 5.57e-01\n",
            "      50 | 5.57e-01\n"
          ]
        }
      ]
    },
    {
      "cell_type": "markdown",
      "metadata": {
        "id": "WxYt69PGn1f6"
      },
      "source": [
        "<a id='sag'></a>\n",
        "## 3.6. Stochastic average gradient descent\n",
        "\n",
        "\n",
        "### QUESTIONS\n",
        "\n",
        "1. Finish the function `sag` below that implements the stochastic averaged gradient algorithm.\n",
        "1. Test it using the next cell"
      ]
    },
    {
      "cell_type": "code",
      "metadata": {
        "collapsed": true,
        "id": "OfrsGlb2n1f6"
      },
      "source": [
        "# Answer\n",
        "def sag(model, w0, idx_samples, n_iter, step, callback, verbose=True):\n",
        "    \"\"\"Stochastic average gradient descent\n",
        "    \"\"\"\n",
        "    w = w0.copy()\n",
        "    n_samples, n_features = model.n_samples, model.n_features\n",
        "    gradient_memory = np.zeros((n_samples, n_features))\n",
        "    y = np.zeros(n_features)\n",
        "    callback(w)\n",
        "    for idx in range(n_iter):\n",
        "        i = idx_samples[idx]        \n",
        "        ### TODO\n",
        "        gradient_memory[i,:] = model.grad_i(i,w)\n",
        "        w = w - step  *(1/n_samples)*np.sum(gradient_memory, axis=0) # we choose a constant step instead of decreasing\n",
        "        ### END TODO        \n",
        "        if idx % n_samples == 0:\n",
        "            callback(w)\n",
        "    return w"
      ],
      "execution_count": 94,
      "outputs": []
    },
    {
      "cell_type": "code",
      "metadata": {
        "id": "oIpeHJU2n1f7",
        "colab": {
          "base_uri": "https://localhost:8080/"
        },
        "outputId": "74c1385f-a156-4dea-e085-8638b50a0857"
      },
      "source": [
        "step = 1 / model.lip_max()\n",
        "callback_sag = inspector(model, n_iter=n_iter)\n",
        "w_sag = sag(model, w0, idx_samples, n_iter=model.n_samples * n_iter, \n",
        "            step=step, callback=callback_sag)"
      ],
      "execution_count": 95,
      "outputs": [
        {
          "output_type": "stream",
          "name": "stdout",
          "text": [
            "   it    |   obj   \n",
            "       0 | 6.93e-01\n",
            "      10 | 5.52e-01\n",
            "      20 | 5.51e-01\n",
            "      30 | 5.51e-01\n",
            "      40 | 5.51e-01\n",
            "      50 | 5.51e-01\n"
          ]
        }
      ]
    },
    {
      "cell_type": "markdown",
      "metadata": {
        "id": "oTw_OXyan1f7"
      },
      "source": [
        "<a id='svrg'></a>\n",
        "## 3.7. Stochastic variance reduced gradient\n",
        "\n",
        "### QUESTIONS\n",
        "\n",
        "1. Finish the function `svrg` below that implements the stochastic variance reduced gradient algorithm.\n",
        "1. Test it using the next cell."
      ]
    },
    {
      "cell_type": "code",
      "metadata": {
        "collapsed": true,
        "id": "ee6LdBivn1f7"
      },
      "source": [
        "# Answer\n",
        "def svrg(model, w0, idx_samples, n_iter, step, callback, verbose=True):\n",
        "    \"\"\"Stochastic variance reduced gradient descent\n",
        "    \"\"\"\n",
        "    w = w0.copy()\n",
        "    w_old = w.copy()\n",
        "    grad_old = model.grad(w_old)\n",
        "    n_samples = model.n_samples\n",
        "    callback(w)\n",
        "    for idx in range(n_iter):        \n",
        "        ### TODO\n",
        "        i = idx_samples[idx]\n",
        "        w = w -  step *(model.grad_i(i,w) - model.grad_i(i,w_old) + grad_old) #here again we do not divide by sqrt(t+1) to decrease faster\n",
        "        if idx%5 == 2: #on pourrait l'accélérer un peu en changeant le w_old moins souvent\n",
        "          w_old = w.copy()\n",
        "          grad_old = model.grad(w_old)\n",
        "        ### END TODO        \n",
        "        if idx % n_samples == 0:\n",
        "            callback(w)\n",
        "    return w"
      ],
      "execution_count": 128,
      "outputs": []
    },
    {
      "cell_type": "code",
      "metadata": {
        "id": "DsnceBkin1f7",
        "colab": {
          "base_uri": "https://localhost:8080/"
        },
        "outputId": "1b597d46-c554-401c-8882-654564ac7127"
      },
      "source": [
        "step = 1 / model.lip_max()\n",
        "callback_svrg = inspector(model, n_iter=n_iter)\n",
        "w_svrg = svrg(model, w0, idx_samples, n_iter=model.n_samples * n_iter,\n",
        "              step=step, callback=callback_svrg)"
      ],
      "execution_count": 91,
      "outputs": [
        {
          "output_type": "stream",
          "name": "stdout",
          "text": [
            "   it    |   obj   \n",
            "       0 | 6.93e-01\n",
            "      10 | 5.51e-01\n",
            "      20 | 5.51e-01\n",
            "      30 | 5.51e-01\n",
            "      40 | 5.51e-01\n",
            "      50 | 5.51e-01\n"
          ]
        }
      ]
    },
    {
      "cell_type": "markdown",
      "metadata": {
        "id": "uPoHmP7Vn1f8"
      },
      "source": [
        "<a id='comparison'></a>\n",
        "# 4. Comparison of all algorithms"
      ]
    },
    {
      "cell_type": "code",
      "metadata": {
        "id": "4T4zgB09n1f8"
      },
      "source": [
        "callbacks = [callback_gd, callback_agd, callback_cgd, callback_sgd, \n",
        "             callback_sag, callback_svrg]\n",
        "names = [\"GD\", \"AGD\", \"CGD\", \"SGD\", \"SAG\", \"SVRG\"]\n",
        "\n",
        "callback_long = inspector(model, n_iter=1000, verbose=False)\n",
        "w_cgd = cgd(model, w0, n_iter=1000, callback=callback_long, verbose=False)\n",
        "obj_min = callback_long.objectives[-1]"
      ],
      "execution_count": 99,
      "outputs": []
    },
    {
      "cell_type": "code",
      "metadata": {
        "id": "jrqbtIrzn1f8",
        "colab": {
          "base_uri": "https://localhost:8080/",
          "height": 369
        },
        "outputId": "25d36c6d-f817-4513-a3bd-088160da8acd"
      },
      "source": [
        "plt.figure(figsize=(6, 5))\n",
        "plt.yscale(\"log\")\n",
        "\n",
        "for callback, name in zip(callbacks, names):\n",
        "    objectives = np.array(callback.objectives)\n",
        "    objectives_dist = objectives - obj_min    \n",
        "    plt.plot(objectives_dist, label=name, lw=2)\n",
        "\n",
        "plt.tight_layout()\n",
        "plt.xlim((0, n_iter))\n",
        "plt.xlabel(\"Number of passes on the data\", fontsize=16)\n",
        "plt.ylabel(r\"$F(w^k) - F(w^*)$\", fontsize=16)\n",
        "plt.legend(loc='lower left')\n",
        "plt.tight_layout()"
      ],
      "execution_count": 114,
      "outputs": [
        {
          "output_type": "display_data",
          "data": {
            "image/png": "[encoded data removed]",
            "text/plain": [
              "<Figure size 432x360 with 1 Axes>"
            ]
          },
          "metadata": {
            "needs_background": "light"
          }
        }
      ]
    },
    {
      "cell_type": "markdown",
      "metadata": {
        "id": "KKg1iMXan1f9"
      },
      "source": [
        "### QUESTIONS\n",
        "\n",
        "1. Compare the minimizers you obtain using the different algorithms, with a large and a small number of iterations. This can be done with `plt.stem` plots.\n",
        "1. In linear regression and logistic regression, study the influence of the correlation of the features on the performance of the optimization algorithms. Explain.\n",
        "1. In linear regression and logistic regression, study the influence of the level of ridge penalization on the performance of the optimization algorithms. Explain.\n",
        "1. (OPTIONAL) All algorithms can be modified to handle an objective of the form $f + g$ with $g$ separable and prox-capable. Modify all the algorithms and try them out for L1 penalization: $w \\in \\mathbb R^d \\mapsto \\lambda \\sum_{j=1}^d |w_j|$."
      ]
    },
    {
      "cell_type": "markdown",
      "metadata": {
        "id": "_fKRgJEIFP57"
      },
      "source": [
        "###Question 1 : effect of the number of iterations"
      ]
    },
    {
      "cell_type": "code",
      "metadata": {
        "colab": {
          "base_uri": "https://localhost:8080/",
          "height": 1000
        },
        "id": "zYC5ck3ZuUQV",
        "outputId": "3fa40cf0-a076-4cf4-cc2b-52fb72642bb7"
      },
      "source": [
        "# Small number of iterations\n",
        "\n",
        "def compare_n_iter(n_iter_1):\n",
        "  wsvrg = svrg(model,w0,idx_samples,n_iter_1, 1 / model.lip_max(),callback_svrg)\n",
        "  wcgd = cgd(model,w0,n_iter_1,callback_cgd)\n",
        "  wsag = sag(model, w0, idx_samples, n_iter_1, 1 / model.lip_max(), callback_sag)\n",
        "  wagd = agd(model, w0, n_iter_1, callback_agd)\n",
        "  wsgd = sgd(model, w0, idx_samples, n_iter_1, 1e-1, callback_sgd)\n",
        "  wgd = gd(model, w0, n_iter_1, callback_gd)\n",
        "  return [model.loss(wsvrg), model.loss(wcgd), model.loss(wsag), model.loss(wagd), model.loss(wsgd), model.loss(wgd)]\n",
        "\n",
        "l20 = compare_n_iter(20)\n",
        "l50 = compare_n_iter(50)\n",
        "l100 = compare_n_iter(100)\n",
        "\n",
        "print(l20, l50, l100)\n",
        "\n",
        "\"\"\"plt.stem(range(6), l20, markerfmt='r')\n",
        "plt.stem(range(6), l50, markerfmt='orange')\n",
        "plt.stem(range(6), l100, markerfmt='g')\"\"\"\n"
      ],
      "execution_count": 143,
      "outputs": [
        {
          "output_type": "stream",
          "name": "stdout",
          "text": [
            "Lauching CGD solver...\n",
            "    3550 | 6.86e-01\n",
            "    3560 | 6.85e-01\n",
            "Lauching AGD solver...\n",
            "    3530 | 5.74e-01\n",
            "    3540 | 5.51e-01\n",
            "Lauching GD solver...\n",
            "    3530 | 6.02e-01\n",
            "    3540 | 5.73e-01\n",
            "      90 | 6.92e-01\n",
            "Lauching CGD solver...\n",
            "    3570 | 6.89e-01\n",
            "    3580 | 6.54e-01\n",
            "    3590 | 6.40e-01\n",
            "    3600 | 6.35e-01\n",
            "    3610 | 6.31e-01\n",
            "Lauching AGD solver...\n",
            "    3550 | 5.91e-01\n",
            "    3560 | 5.51e-01\n",
            "    3570 | 5.51e-01\n",
            "    3580 | 5.51e-01\n",
            "    3590 | 5.51e-01\n",
            "Lauching GD solver...\n",
            "    3550 | 6.13e-01\n",
            "    3560 | 5.76e-01\n",
            "    3570 | 5.63e-01\n",
            "    3580 | 5.57e-01\n",
            "    3590 | 5.54e-01\n",
            "Lauching CGD solver...\n",
            "    3620 | 6.91e-01\n",
            "    3630 | 6.86e-01\n",
            "    3640 | 6.79e-01\n",
            "    3650 | 6.71e-01\n",
            "    3660 | 6.69e-01\n",
            "    3670 | 6.45e-01\n",
            "    3680 | 6.43e-01\n",
            "    3690 | 6.35e-01\n",
            "    3700 | 6.11e-01\n",
            "    3710 | 6.11e-01\n",
            "Lauching AGD solver...\n",
            "    3600 | 6.14e-01\n",
            "    3610 | 5.53e-01\n",
            "    3620 | 5.51e-01\n",
            "    3630 | 5.51e-01\n",
            "    3640 | 5.51e-01\n",
            "    3650 | 5.51e-01\n",
            "    3660 | 5.51e-01\n",
            "    3670 | 5.51e-01\n",
            "    3680 | 5.51e-01\n",
            "    3690 | 5.51e-01\n",
            "Lauching GD solver...\n",
            "    3600 | 6.28e-01\n",
            "    3610 | 5.81e-01\n",
            "    3620 | 5.65e-01\n",
            "    3630 | 5.58e-01\n",
            "    3640 | 5.54e-01\n",
            "    3650 | 5.53e-01\n",
            "    3660 | 5.52e-01\n",
            "    3670 | 5.51e-01\n",
            "    3680 | 5.51e-01\n",
            "    3690 | 5.51e-01\n",
            "[0.6739346480982044, 0.6569029250295135, 0.6930414837305693, 0.5510247981589452, 0.7527333590643392, 0.5681587682141065] [0.6551795936241415, 0.6295201867310034, 0.6917310361767508, 0.5508668462629539, 0.7220910678035136, 0.5531431099365143] [0.6344499634194982, 0.6062806001858355, 0.6882761173273133, 0.5508342649989473, 0.7007700826792431, 0.5509562849756943]\n"
          ]
        },
        {
          "output_type": "execute_result",
          "data": {
            "application/vnd.google.colaboratory.intrinsic+json": {
              "type": "string"
            },
            "text/plain": [
              "\"plt.stem(range(6), l20, markerfmt='r')\\nplt.stem(range(6), l50, markerfmt='orange')\\nplt.stem(range(6), l100, markerfmt='g')\""
            ]
          },
          "metadata": {},
          "execution_count": 143
        }
      ]
    },
    {
      "cell_type": "code",
      "metadata": {
        "colab": {
          "base_uri": "https://localhost:8080/",
          "height": 412
        },
        "id": "NtE7enM97Fgh",
        "outputId": "32011e64-3c07-49eb-8eaa-286516583f6d"
      },
      "source": [
        "noms = [\"SVRG\", \"CGD\",\"SAG\", \"AGD\", \"SGD\", \"GD\"]\n",
        "plt.stem(noms, l20, markerfmt='ro')\n",
        "plt.stem(noms, l50, markerfmt='yo')\n",
        "plt.stem(noms, l100, markerfmt='go')"
      ],
      "execution_count": 144,
      "outputs": [
        {
          "output_type": "stream",
          "name": "stderr",
          "text": [
            "/usr/local/lib/python3.7/dist-packages/ipykernel_launcher.py:2: UserWarning: In Matplotlib 3.3 individual lines on a stem plot will be added as a LineCollection instead of individual lines. This significantly improves the performance of a stem plot. To remove this warning and switch to the new behaviour, set the \"use_line_collection\" keyword argument to True.\n",
            "  \n",
            "/usr/local/lib/python3.7/dist-packages/ipykernel_launcher.py:3: UserWarning: In Matplotlib 3.3 individual lines on a stem plot will be added as a LineCollection instead of individual lines. This significantly improves the performance of a stem plot. To remove this warning and switch to the new behaviour, set the \"use_line_collection\" keyword argument to True.\n",
            "  This is separate from the ipykernel package so we can avoid doing imports until\n",
            "/usr/local/lib/python3.7/dist-packages/ipykernel_launcher.py:4: UserWarning: In Matplotlib 3.3 individual lines on a stem plot will be added as a LineCollection instead of individual lines. This significantly improves the performance of a stem plot. To remove this warning and switch to the new behaviour, set the \"use_line_collection\" keyword argument to True.\n",
            "  after removing the cwd from sys.path.\n"
          ]
        },
        {
          "output_type": "execute_result",
          "data": {
            "text/plain": [
              "<StemContainer object of 3 artists>"
            ]
          },
          "metadata": {},
          "execution_count": 144
        },
        {
          "output_type": "display_data",
          "data": {
            "image/png": "[encoded data removed]",
            "text/plain": [
              "<Figure size 432x288 with 1 Axes>"
            ]
          },
          "metadata": {
            "needs_background": "light"
          }
        }
      ]
    },
    {
      "cell_type": "markdown",
      "metadata": {
        "id": "Lh6WA-FrFG1-"
      },
      "source": [
        "###Question 2 : effect of the correlation"
      ]
    },
    {
      "cell_type": "code",
      "metadata": {
        "colab": {
          "base_uri": "https://localhost:8080/"
        },
        "id": "pmX5cgrJt_ku",
        "outputId": "7c47a91c-f8fb-4cfd-a189-9db023455fa6"
      },
      "source": [
        "X1, y1 = simu_logreg(w0, corr=0.1)\n",
        "model1 = ModelLogReg(X1, y1, strength=1e-3)\n",
        "\n",
        "callback_gd1 = inspector(model1, n_iter=n_iter)\n",
        "w_gd1 = gd(model1, w0, n_iter=n_iter, callback=callback_gd1)\n",
        "callback_agd1 = inspector(model1, n_iter=n_iter)\n",
        "w_agd1 = agd(model1, w0, n_iter=n_iter, callback=callback_agd1)\n",
        "callback_cgd1 = inspector(model1, n_iter=n_iter)\n",
        "w_cgd1 = cgd(model1, w0, n_iter=n_iter, callback=callback_cgd1)\n",
        "callback_sgd1 = inspector(model1, n_iter=n_iter)\n",
        "step = 1e-1\n",
        "w_sgd1 = sgd(model1, w0, idx_samples, n_iter=model1.n_samples * n_iter, \n",
        "            step=step, callback=callback_sgd1)\n",
        "step = 1 / model1.lip_max()\n",
        "callback_sag1 = inspector(model1, n_iter=n_iter)\n",
        "w_sag1 = sag(model1, w0, idx_samples, n_iter=model1.n_samples * n_iter, \n",
        "            step=step, callback=callback_sag1)\n",
        "step = 1 / model1.lip_max()\n",
        "callback_svrg1 = inspector(model1, n_iter=n_iter)\n",
        "w_svrg1 = svrg(model1, w0, idx_samples, n_iter=model1.n_samples * n_iter,\n",
        "              step=step, callback=callback_svrg1)\n",
        "\n",
        "\n",
        "callbacks1 = [callback_gd1, callback_agd1, callback_cgd1, callback_sgd1, \n",
        "             callback_sag1, callback_svrg1]\n",
        "names = [\"GD\", \"AGD\", \"CGD\", \"SGD\", \"SAG\", \"SVRG\"]\n",
        "\n",
        "callback_long1 = inspector(model1, n_iter=1000, verbose=False)\n",
        "w_cgd1 = cgd(model1, w0, n_iter=1000, callback=callback_long1, verbose=False)\n",
        "obj_min = callback_long1.objectives[-1]"
      ],
      "execution_count": 145,
      "outputs": [
        {
          "output_type": "stream",
          "name": "stdout",
          "text": [
            "Lauching GD solver...\n",
            "   it    |   obj   \n",
            "       0 | 6.93e-01\n",
            "      10 | 6.69e-01\n",
            "      20 | 6.69e-01\n",
            "      30 | 6.69e-01\n",
            "      40 | 6.69e-01\n",
            "      50 | 6.69e-01\n",
            "Lauching AGD solver...\n",
            "   it    |   obj   \n",
            "       0 | 6.93e-01\n",
            "      10 | 6.69e-01\n",
            "      20 | 6.69e-01\n",
            "      30 | 6.69e-01\n",
            "      40 | 6.69e-01\n",
            "      50 | 6.69e-01\n",
            "Lauching CGD solver...\n",
            "   it    |   obj   \n",
            "       0 | 6.93e-01\n",
            "      10 | 6.91e-01\n",
            "      20 | 6.85e-01\n",
            "      30 | 6.82e-01\n",
            "      40 | 6.81e-01\n",
            "      50 | 6.78e-01\n",
            "   it    |   obj   \n",
            "       0 | 6.93e-01\n",
            "      10 | 6.73e-01\n",
            "      20 | 6.71e-01\n",
            "      30 | 6.70e-01\n",
            "      40 | 6.71e-01\n",
            "      50 | 6.70e-01\n",
            "   it    |   obj   \n",
            "       0 | 6.93e-01\n",
            "      10 | 6.74e-01\n",
            "      20 | 6.69e-01\n",
            "      30 | 6.69e-01\n",
            "      40 | 6.69e-01\n",
            "      50 | 6.69e-01\n",
            "   it    |   obj   \n",
            "       0 | 6.93e-01\n",
            "      10 | 6.69e-01\n",
            "      20 | 6.69e-01\n",
            "      30 | 6.69e-01\n",
            "      40 | 6.69e-01\n",
            "      50 | 6.69e-01\n"
          ]
        }
      ]
    },
    {
      "cell_type": "code",
      "metadata": {
        "colab": {
          "base_uri": "https://localhost:8080/",
          "height": 369
        },
        "id": "XU3qV5FS9Gpo",
        "outputId": "085127c9-c8a9-4358-a965-e807292deb4a"
      },
      "source": [
        "plt.figure(figsize=(6, 5))\n",
        "plt.yscale(\"log\")\n",
        "\n",
        "for callback, name in zip(callbacks1, names):\n",
        "    objectives = np.array(callback.objectives)\n",
        "    objectives_dist = objectives - obj_min    \n",
        "    plt.plot(objectives_dist, label=name, lw=2)\n",
        "\n",
        "plt.tight_layout()\n",
        "plt.xlim((0, n_iter))\n",
        "plt.xlabel(\"Number of passes on the data\", fontsize=16)\n",
        "plt.ylabel(r\"$F(w^k) - F(w^*)$\", fontsize=16)\n",
        "plt.legend(loc='lower left')\n",
        "plt.tight_layout()"
      ],
      "execution_count": 146,
      "outputs": [
        {
          "output_type": "display_data",
          "data": {
            "image/png": "[encoded data removed]",
            "text/plain": [
              "<Figure size 432x360 with 1 Axes>"
            ]
          },
          "metadata": {
            "needs_background": "light"
          }
        }
      ]
    },
    {
      "cell_type": "markdown",
      "metadata": {
        "id": "rxyzCO8MC5-E"
      },
      "source": [
        "Here we can see that with a low correlation, there is a clear difference between the algorithms and the convergence is faster. In comparison, the graph obtained in part 4 has a higher correlation. We confirmed this tendency by testing for other volues of the correlation."
      ]
    },
    {
      "cell_type": "code",
      "metadata": {
        "colab": {
          "base_uri": "https://localhost:8080/"
        },
        "id": "8tzqFOHMDvWU",
        "outputId": "b3713588-96b2-48ec-938e-d2760be629e1"
      },
      "source": [
        "X1, y1 = simu_logreg(w0, corr=0.1)\n",
        "model1 = ModelLogReg(X1, y1, strength=10)\n",
        "\n",
        "callback_gd1 = inspector(model1, n_iter=n_iter)\n",
        "w_gd1 = gd(model1, w0, n_iter=n_iter, callback=callback_gd1)\n",
        "callback_agd1 = inspector(model1, n_iter=n_iter)\n",
        "w_agd1 = agd(model1, w0, n_iter=n_iter, callback=callback_agd1)\n",
        "callback_cgd1 = inspector(model1, n_iter=n_iter)\n",
        "w_cgd1 = cgd(model1, w0, n_iter=n_iter, callback=callback_cgd1)\n",
        "callback_sgd1 = inspector(model1, n_iter=n_iter)\n",
        "step = 1e-1\n",
        "w_sgd1 = sgd(model1, w0, idx_samples, n_iter=model1.n_samples * n_iter, \n",
        "            step=step, callback=callback_sgd1)\n",
        "step = 1 / model1.lip_max()\n",
        "callback_sag1 = inspector(model1, n_iter=n_iter)\n",
        "w_sag1 = sag(model1, w0, idx_samples, n_iter=model1.n_samples * n_iter, \n",
        "            step=step, callback=callback_sag1)\n",
        "step = 1 / model1.lip_max()\n",
        "callback_svrg1 = inspector(model1, n_iter=n_iter)\n",
        "w_svrg1 = svrg(model1, w0, idx_samples, n_iter=model1.n_samples * n_iter,\n",
        "              step=step, callback=callback_svrg1)\n",
        "\n",
        "\n",
        "callbacks1 = [callback_gd1, callback_agd1, callback_cgd1, callback_sgd1, \n",
        "             callback_sag1, callback_svrg1]\n",
        "names = [\"GD\", \"AGD\", \"CGD\", \"SGD\", \"SAG\", \"SVRG\"]\n",
        "\n",
        "callback_long1 = inspector(model1, n_iter=1000, verbose=False)\n",
        "w_cgd1 = cgd(model1, w0, n_iter=1000, callback=callback_long1, verbose=False)\n",
        "obj_min = callback_long1.objectives[-1]"
      ],
      "execution_count": 147,
      "outputs": [
        {
          "output_type": "stream",
          "name": "stdout",
          "text": [
            "Lauching GD solver...\n",
            "   it    |   obj   \n",
            "       0 | 6.93e-01\n",
            "      10 | 6.93e-01\n",
            "      20 | 6.93e-01\n",
            "      30 | 6.93e-01\n",
            "      40 | 6.93e-01\n",
            "      50 | 6.93e-01\n",
            "Lauching AGD solver...\n",
            "   it    |   obj   \n",
            "       0 | 6.93e-01\n",
            "      10 | 6.93e-01\n",
            "      20 | 6.93e-01\n",
            "      30 | 6.93e-01\n",
            "      40 | 6.93e-01\n",
            "      50 | 6.93e-01\n",
            "Lauching CGD solver...\n",
            "   it    |   obj   \n",
            "       0 | 6.93e-01\n",
            "      10 | 6.93e-01\n",
            "      20 | 6.93e-01\n",
            "      30 | 6.93e-01\n",
            "      40 | 6.93e-01\n",
            "      50 | 6.93e-01\n",
            "   it    |   obj   \n",
            "       0 | 6.93e-01\n",
            "      10 | 6.94e-01\n",
            "      20 | 6.94e-01\n",
            "      30 | 6.94e-01\n",
            "      40 | 6.93e-01\n",
            "      50 | 6.93e-01\n",
            "   it    |   obj   \n",
            "       0 | 6.93e-01\n",
            "      10 | 6.93e-01\n",
            "      20 | 6.93e-01\n",
            "      30 | 6.93e-01\n",
            "      40 | 6.93e-01\n",
            "      50 | 6.93e-01\n",
            "   it    |   obj   \n",
            "       0 | 6.93e-01\n",
            "      10 | 6.93e-01\n",
            "      20 | 6.93e-01\n",
            "      30 | 6.93e-01\n",
            "      40 | 6.93e-01\n",
            "      50 | 6.93e-01\n"
          ]
        }
      ]
    },
    {
      "cell_type": "markdown",
      "metadata": {
        "id": "ZOOi_BR3E7b9"
      },
      "source": [
        "###Question 3 : effect of the strength"
      ]
    },
    {
      "cell_type": "code",
      "metadata": {
        "colab": {
          "base_uri": "https://localhost:8080/",
          "height": 369
        },
        "id": "RJSBQBbwECIL",
        "outputId": "7bff4a25-9809-4d5a-9156-ab023f91cb23"
      },
      "source": [
        "plt.figure(figsize=(6, 5))\n",
        "plt.yscale(\"log\")\n",
        "\n",
        "for callback, name in zip(callbacks1, names):\n",
        "    objectives = np.array(callback.objectives)\n",
        "    objectives_dist = objectives - obj_min    \n",
        "    plt.plot(objectives_dist, label=name, lw=2)\n",
        "\n",
        "plt.tight_layout()\n",
        "plt.xlim((0, n_iter))\n",
        "plt.xlabel(\"Number of passes on the data\", fontsize=16)\n",
        "plt.ylabel(r\"$F(w^k) - F(w^*)$\", fontsize=16)\n",
        "plt.legend(loc='lower left')\n",
        "plt.tight_layout()"
      ],
      "execution_count": 148,
      "outputs": [
        {
          "output_type": "display_data",
          "data": {
            "image/png": "[encoded data removed]",
            "text/plain": [
              "<Figure size 432x360 with 1 Axes>"
            ]
          },
          "metadata": {
            "needs_background": "light"
          }
        }
      ]
    },
    {
      "cell_type": "markdown",
      "metadata": {
        "id": "uPfADZL8EDHb"
      },
      "source": [
        "The graph from question 2 had a strength of $10^{-3}$.\n",
        "We tried with higher values of $\\lambda$, for instance in the former graph $\\lambda = 10$. We observe that the convergence is faster with a higher strength, indeed the steps of the gradient are bigger. However, a too big strength can \"absorb\" the minimisation of the objective function by leading to small vectors, independently of the loss."
      ]
    }
  ]
}